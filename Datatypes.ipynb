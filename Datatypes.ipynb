{
 "cells": [
  {
   "cell_type": "markdown",
   "id": "1d4375bd",
   "metadata": {},
   "source": [
    "# Data Types"
   ]
  },
  {
   "cell_type": "markdown",
   "id": "162220e2",
   "metadata": {},
   "source": [
    "# Data types defined which type of datatype ur storing in a varaible.\n",
    "                              "
   ]
  },
  {
   "cell_type": "code",
   "execution_count": null,
   "id": "27e12602",
   "metadata": {},
   "outputs": [],
   "source": [
    "In this python 2 types of datatype 1.Single valued datatype\n",
    "                                   2.Multivalued datatype\n",
    "                                   3.Boolean Datatype"
   ]
  },
  {
   "cell_type": "code",
   "execution_count": null,
   "id": "61717401",
   "metadata": {},
   "outputs": [],
   "source": [
    "##\n",
    "1.Single valued datatype:\n",
    "    Ur storing data in single value\n",
    "    Types of Single valued datatype,\n",
    "    1.Int : Numbers without Decimal points.\n",
    "         Ex: a = 3   3 is a int type of data\n",
    "    2. Float : Numbers with Decimal points.\n",
    "         Ex: b = 4.5  \n",
    "    3. Complex : Complex numbers with combination of Realpart and Imaginary part\n",
    "         Ex: A+Bj\n",
    "             Note : Here j is root(-1)"
   ]
  },
  {
   "cell_type": "markdown",
   "id": "e690fd54",
   "metadata": {},
   "source": [
    "## 2. Boolean Datatype"
   ]
  },
  {
   "cell_type": "code",
   "execution_count": null,
   "id": "fbbd8520",
   "metadata": {},
   "outputs": [],
   "source": [
    "These datatype are used for definig the yes or no Type of data.\n",
    "  True Keyword is used for defing True Boolean Type\n",
    "    False Keyword is used for defing False Boolean Type"
   ]
  },
  {
   "cell_type": "markdown",
   "id": "be207a0c",
   "metadata": {},
   "source": [
    "\n",
    "## 3. Multivalued Datatype "
   ]
  },
  {
   "cell_type": "markdown",
   "id": "f9f30353",
   "metadata": {},
   "source": [
    "###  In This Category we will be storing morethan one data item or value."
   ]
  },
  {
   "cell_type": "markdown",
   "id": "527540bd",
   "metadata": {},
   "source": [
    "## String,List,Tuple,Set,Dictionary"
   ]
  },
  {
   "cell_type": "markdown",
   "id": "62271a68",
   "metadata": {},
   "source": [
    "# String:"
   ]
  },
  {
   "cell_type": "code",
   "execution_count": null,
   "id": "ddd0c013",
   "metadata": {},
   "outputs": [],
   "source": [
    "'''\n",
    "1.String is a collection of indivisual elements and enclosed with quotation marks\n",
    "2.String is a Immutable data type and order collection Data type.\n",
    "3.We can perform indexing and slicing in String.\n",
    "4. For representing Single line string we can use single or double quotes\n",
    "4.For representing multiline string we can use Triple quotes\n",
    "\n",
    "'''\n",
    "#Ex :\n",
    "name = 'Sivasankar naik'\n",
    "age = 29\n",
    "about = ''' Hi everyone i completed my python fullstack development course in\n",
    "              J spiders Marathahalli .'''"
   ]
  },
  {
   "cell_type": "markdown",
   "id": "c9e1551a",
   "metadata": {},
   "source": [
    "# List"
   ]
  },
  {
   "cell_type": "code",
   "execution_count": null,
   "id": "7badc076",
   "metadata": {},
   "outputs": [],
   "source": [
    "'''\n",
    "1.List is a Collection of Homogeneous and Hetrogeneous Data and every elements Divided with\n",
    "   , Operator and Enclosed with [] .\n",
    "2.List is Mutable Data type and Ordered Collection Data type.\n",
    "3.In List we can perform slicing and indexing both.\n",
    "\n",
    "'''\n",
    "# Syntax :\n",
    "Varaible name = [Element1 , Element2 , Element3]\n",
    "#Ex:\n",
    "List1 = [12,13,'shiva']\n",
    "#Syntax for modifying the value space by indexing :\n",
    "Varaiblename [index postion] = new value\n",
    "#Syntax for deleting the value space by indexing :\n",
    "Del varaiblename [index position]"
   ]
  },
  {
   "cell_type": "markdown",
   "id": "5225870e",
   "metadata": {},
   "source": [
    "# Tuple"
   ]
  },
  {
   "cell_type": "code",
   "execution_count": null,
   "id": "b9ed29cb",
   "metadata": {},
   "outputs": [],
   "source": [
    "'''\n",
    "1. Tuple is a collection of both homogeneous and hetrogeneous data and enclosed with paranthesis(),\n",
    "   Each and every element divided with , operator.\n",
    "2. Tuple is a mutable collection data type and ordered collection data type.\n",
    "3. Both indexing and slicing can perform in tuple\n",
    "4. Comma operator define the tuple not paranthesis\n",
    "'''\n",
    "#Syntax for defining multiple values in tuple:\n",
    "varaible name = (element1 , element2 , element3 )  or\n",
    "varaible name =  element1 , element2 , element3 \n",
    "\n",
    "#Syntax for defing single value in tuple :\n",
    "varaible name = element1 ,   or\n",
    "varaible name = (element1 ,)"
   ]
  },
  {
   "cell_type": "markdown",
   "id": "6daf5fa7",
   "metadata": {},
   "source": [
    "# SET"
   ]
  },
  {
   "cell_type": "code",
   "execution_count": null,
   "id": "cdb700d2",
   "metadata": {},
   "outputs": [],
   "source": [
    "'''\n",
    "1. Set is a collection both homogeneous and hetrogeneous data and enclosed with flower brackets{},\n",
    "2. Set is a Mutable collection data type and un ordered collection data type.\n",
    "3. We can not perform slicing and indexing on Set\n",
    "4. Set can not allow duplicates and set stores in immutable data types only.\n",
    "'''\n",
    "#Syntax for define set\n",
    "varaible name = { element1 , element2 , element3 }\n",
    "# syntax for define empty set\n",
    "varaible name = by using set function ............... set()"
   ]
  },
  {
   "cell_type": "markdown",
   "id": "ad5df3f5",
   "metadata": {},
   "source": [
    "# Dictionary"
   ]
  },
  {
   "cell_type": "code",
   "execution_count": null,
   "id": "efc72143",
   "metadata": {},
   "outputs": [],
   "source": [
    "'''\n",
    "1.Dictionary is a collection of key and value pairs\n",
    "2.In DIctionary Key and value pair enclosed with {} flower brackets\n",
    "3.Each and every key , value pair divided with : operator \n",
    "4.Dictionary is a Mutable data type and ordered collection data type,\n",
    "5.We can not perform Slicing and indexing in Dictionary.\n",
    "'''\n",
    "\n",
    "#Syntax for defing Dictionary:\n",
    "varaible name = {'Keyname1':value1 , 'keyname2':value2 }\n",
    "\n",
    "#Syntax for Accesing the value from a diven dictionary:\n",
    "  varaible name ['keyname']\n",
    "#Syntax for modifying the value from a given dictionary:\n",
    "  varaible name ['keyname'] = newvalue\n",
    "    \n",
    "#Note:\n",
    "   '1.If specify key is present then it will update the value'\n",
    "    '2.Else it will be create a new key for that value'."
   ]
  },
  {
   "cell_type": "code",
   "execution_count": null,
   "id": "338bd82a",
   "metadata": {},
   "outputs": [],
   "source": []
  },
  {
   "cell_type": "code",
   "execution_count": null,
   "id": "5604ec3d",
   "metadata": {},
   "outputs": [],
   "source": []
  }
 ],
 "metadata": {
  "kernelspec": {
   "display_name": "Python 3 (ipykernel)",
   "language": "python",
   "name": "python3"
  },
  "language_info": {
   "codemirror_mode": {
    "name": "ipython",
    "version": 3
   },
   "file_extension": ".py",
   "mimetype": "text/x-python",
   "name": "python",
   "nbconvert_exporter": "python",
   "pygments_lexer": "ipython3",
   "version": "3.9.13"
  }
 },
 "nbformat": 4,
 "nbformat_minor": 5
}
